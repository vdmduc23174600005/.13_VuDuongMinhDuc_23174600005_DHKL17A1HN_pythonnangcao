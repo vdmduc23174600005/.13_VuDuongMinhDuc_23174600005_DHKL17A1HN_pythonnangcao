import numpy as np

np.random.seed(0)  
nhiệt_độ = np.round(np.random.uniform(15, 35, 30), 2)  
print("Nhiệt độ mỗi ngày trong tháng:", nhiệt_độ)
