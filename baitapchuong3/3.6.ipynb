{
 "cells": [
  {
   "cell_type": "code",
   "execution_count": 1,
   "metadata": {},
   "outputs": [
    {
     "name": "stdout",
     "output_type": "stream",
     "text": [
      "Array art (3x3 với giá trị True):\n",
      "[[ True  True  True]\n",
      " [ True  True  True]\n",
      " [ True  True  True]]\n"
     ]
    }
   ],
   "source": [
    "import numpy as np\n",
    "\n",
    "# Câu 1: Tạo array art có kích thước 3x3 với các giá trị True\n",
    "art = np.full((3, 3), True)\n",
    "print(\"Array art (3x3 với giá trị True):\")\n",
    "print(art)"
   ]
  },
  {
   "cell_type": "code",
   "execution_count": 7,
   "metadata": {},
   "outputs": [
    {
     "name": "stdout",
     "output_type": "stream",
     "text": [
      "\n",
      "Array arr_2D sau khi đổi cột 1 và cột 3:\n",
      "[[12345678 12345678        0]\n",
      " [12345678 12345678        0]\n",
      " [12345678 12345678        0]]\n"
     ]
    }
   ],
   "source": [
    " #Câu 2: Tạo array 2 chiều từ arr_ID và đổi cột 1 và cột 3\n",
    "arr_ID = np.array([0, 12345678])  # Định dạng đúng cho arr_ID\n",
    "arr_2D = np.array([[arr_ID[0], arr_ID[1], arr_ID[1]],   # Cột 1, cột 2, cột 3\n",
    "                   [arr_ID[0], arr_ID[1], arr_ID[1]],   # Lặp lại để tạo mảng 3x3\n",
    "                   [arr_ID[0], arr_ID[1], arr_ID[1]]])  # Lặp lại để tạo mảng 3x3\n",
    "\n",
    "# Đổi cột 1 và cột 3 trong arr_2D\n",
    "arr_2D[:, [0, 2]] = arr_2D[:, [2, 0]]\n",
    "print(\"\\nArray arr_2D sau khi đổi cột 1 và cột 3:\")\n",
    "print(arr_2D)\n"
   ]
  },
  {
   "cell_type": "code",
   "execution_count": 8,
   "metadata": {},
   "outputs": [
    {
     "name": "stdout",
     "output_type": "stream",
     "text": [
      "\n",
      "Array arr_2D sau khi đổi dòng 1 và dòng 2:\n",
      "[[12345678 12345678        0]\n",
      " [12345678 12345678        0]\n",
      " [12345678 12345678        0]]\n"
     ]
    }
   ],
   "source": [
    "# Câu 3: Đổi dòng 1 và dòng 2\n",
    "arr_2D[[0, 1], :] = arr_2D[[1, 0], :]\n",
    "print(\"\\nArray arr_2D sau khi đổi dòng 1 và dòng 2:\")\n",
    "print(arr_2D)\n"
   ]
  },
  {
   "cell_type": "code",
   "execution_count": 9,
   "metadata": {},
   "outputs": [
    {
     "name": "stdout",
     "output_type": "stream",
     "text": [
      "\n",
      "Array arr_2D sau khi đảo ngược các dòng:\n",
      "[[12345678 12345678        0]\n",
      " [12345678 12345678        0]\n",
      " [12345678 12345678        0]]\n"
     ]
    }
   ],
   "source": [
    "# Câu 4: Đảo ngược các dòng của arr_2D\n",
    "arr_2D = arr_2D[::-1]\n",
    "print(\"\\nArray arr_2D sau khi đảo ngược các dòng:\")\n",
    "print(arr_2D)"
   ]
  },
  {
   "cell_type": "code",
   "execution_count": 10,
   "metadata": {},
   "outputs": [
    {
     "name": "stdout",
     "output_type": "stream",
     "text": [
      "\n",
      "Array arr_2D sau khi đảo ngược các cột:\n",
      "[[       0 12345678 12345678]\n",
      " [       0 12345678 12345678]\n",
      " [       0 12345678 12345678]]\n"
     ]
    }
   ],
   "source": [
    "# Câu 5: Đảo ngược các cột của arr_2D\n",
    "arr_2D = arr_2D[:, ::-1]\n",
    "print(\"\\nArray arr_2D sau khi đảo ngược các cột:\")\n",
    "print(arr_2D)"
   ]
  },
  {
   "cell_type": "code",
   "execution_count": 13,
   "metadata": {},
   "outputs": [
    {
     "name": "stdout",
     "output_type": "stream",
     "text": [
      "\n",
      "Kiểm tra giá trị rỗng (NaN) trong arr_2D_null: True\n"
     ]
    }
   ],
   "source": [
    "# Câu 6: Tạo mảng 2D có giá trị NaN\n",
    "arr_2D_null = np.array([[1, 2, 3], [np.nan, 5, 6], [7, np.nan, 9], [4, 5, 6]])\n",
    "\n",
    "# Kiểm tra trong array có giá trị rỗng (NaN) không\n",
    "has_nan = np.isnan(arr_2D_null).any()\n",
    "print(\"\\nKiểm tra giá trị rỗng (NaN) trong arr_2D_null:\", has_nan)"
   ]
  },
  {
   "cell_type": "code",
   "execution_count": 14,
   "metadata": {},
   "outputs": [
    {
     "name": "stdout",
     "output_type": "stream",
     "text": [
      "\n",
      "Array arr_2D_null sau khi thay thế giá trị NaN bằng 0:\n",
      "[[1. 2. 3.]\n",
      " [0. 5. 6.]\n",
      " [7. 0. 9.]\n",
      " [4. 5. 6.]]\n"
     ]
    }
   ],
   "source": [
    "# Câu 7: Thay thế giá trị NaN bằng 0\n",
    "arr_2D_null[np.isnan(arr_2D_null)] = 0\n",
    "print(\"\\nArray arr_2D_null sau khi thay thế giá trị NaN bằng 0:\")\n",
    "print(arr_2D_null)"
   ]
  }
 ],
 "metadata": {
  "kernelspec": {
   "display_name": "Python 3",
   "language": "python",
   "name": "python3"
  },
  "language_info": {
   "codemirror_mode": {
    "name": "ipython",
    "version": 3
   },
   "file_extension": ".py",
   "mimetype": "text/x-python",
   "name": "python",
   "nbconvert_exporter": "python",
   "pygments_lexer": "ipython3",
   "version": "3.11.9"
  }
 },
 "nbformat": 4,
 "nbformat_minor": 2
}
