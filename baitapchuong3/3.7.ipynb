{
 "cells": [
  {
   "cell_type": "code",
   "execution_count": 1,
   "metadata": {},
   "outputs": [
    {
     "name": "stdout",
     "output_type": "stream",
     "text": [
      "Kiểu dữ liệu của np_baseball: float64\n",
      "Kích thước của np_baseball: (0,)\n"
     ]
    }
   ],
   "source": [
    "import numpy as np\n",
    "\n",
    "# Đọc dữ liệu từ tệp baseball_2D.txt và lưu vào list baseball\n",
    "with open('baseball_2D.txt', 'r') as file:\n",
    "    lines = file.readlines()\n",
    "    baseball = [list(map(float, line.strip().split())) for line in lines[1:]]  # Bỏ qua dòng tiêu đề\n",
    "\n",
    "# Câu 1: Tạo 2D numpy array từ baseball\n",
    "np_baseball = np.array(baseball)\n",
    "print(\"Kiểu dữ liệu của np_baseball:\", np_baseball.dtype)\n",
    "print(\"Kích thước của np_baseball:\", np_baseball.shape)\n"
   ]
  },
  {
   "cell_type": "code",
   "execution_count": 4,
   "metadata": {},
   "outputs": [
    {
     "name": "stdout",
     "output_type": "stream",
     "text": [
      "Mảng không đủ dòng để truy cập dòng thứ 50.\n"
     ]
    }
   ],
   "source": [
    "# Câu 2: In các giá trị của dòng thứ 50\n",
    "if np_baseball.shape[0] >= 50:  # Kiểm tra xem mảng có ít nhất 50 dòng không\n",
    "    print(\"Giá trị của dòng thứ 50 trong np_baseball:\", np_baseball[49])  # Dòng 50 có chỉ số là 49\n",
    "else:\n",
    "    print(\"Mảng không đủ dòng để truy cập dòng thứ 50.\")\n",
    "\n"
   ]
  },
  {
   "cell_type": "code",
   "execution_count": 6,
   "metadata": {},
   "outputs": [
    {
     "ename": "IndexError",
     "evalue": "too many indices for array: array is 1-dimensional, but 2 were indexed",
     "output_type": "error",
     "traceback": [
      "\u001b[1;31m---------------------------------------------------------------------------\u001b[0m",
      "\u001b[1;31mIndexError\u001b[0m                                Traceback (most recent call last)",
      "Cell \u001b[1;32mIn[6], line 2\u001b[0m\n\u001b[0;32m      1\u001b[0m \u001b[38;5;66;03m# Câu 3: Tạo numpy array np_weight từ cột 2\u001b[39;00m\n\u001b[1;32m----> 2\u001b[0m np_weight \u001b[38;5;241m=\u001b[39m \u001b[43mnp_baseball\u001b[49m\u001b[43m[\u001b[49m\u001b[43m:\u001b[49m\u001b[43m,\u001b[49m\u001b[43m \u001b[49m\u001b[38;5;241;43m1\u001b[39;49m\u001b[43m]\u001b[49m  \u001b[38;5;66;03m# Cột 2 có chỉ số là 1\u001b[39;00m\n\u001b[0;32m      3\u001b[0m \u001b[38;5;28mprint\u001b[39m(\u001b[38;5;124m\"\u001b[39m\u001b[38;5;124mCột cân nặng:\u001b[39m\u001b[38;5;124m\"\u001b[39m, np_weight)\n",
      "\u001b[1;31mIndexError\u001b[0m: too many indices for array: array is 1-dimensional, but 2 were indexed"
     ]
    }
   ],
   "source": [
    "\n",
    "# Câu 3: Tạo numpy array np_weight từ cột 2\n",
    "np_weight = np_baseball[:, 1]  # Cột 2 có chỉ số là 1\n",
    "print(\"Cột cân nặng:\", np_weight)\n",
    "\n"
   ]
  },
  {
   "cell_type": "code",
   "execution_count": 7,
   "metadata": {},
   "outputs": [
    {
     "name": "stdout",
     "output_type": "stream",
     "text": [
      "Mảng không đủ dòng để truy cập vận động viên thứ 124.\n"
     ]
    }
   ],
   "source": [
    "# Câu 4: Chiều cao của vận động viên thứ 124\n",
    "if np_baseball.shape[0] >= 124:  # Kiểm tra xem mảng có ít nhất 124 dòng không\n",
    "    height_124 = np_baseball[123, 0]  # Vận động viên thứ 124 có chỉ số là 123\n",
    "    print(\"Chiều cao của vận động viên thứ 124:\", height_124)\n",
    "else:\n",
    "    print(\"Mảng không đủ dòng để truy cập vận động viên thứ 124.\")"
   ]
  },
  {
   "cell_type": "code",
   "execution_count": 8,
   "metadata": {},
   "outputs": [
    {
     "ename": "IndexError",
     "evalue": "too many indices for array: array is 1-dimensional, but 2 were indexed",
     "output_type": "error",
     "traceback": [
      "\u001b[1;31m---------------------------------------------------------------------------\u001b[0m",
      "\u001b[1;31mIndexError\u001b[0m                                Traceback (most recent call last)",
      "Cell \u001b[1;32mIn[8], line 2\u001b[0m\n\u001b[0;32m      1\u001b[0m \u001b[38;5;66;03m# Câu 5: Tính chiều cao trung bình và cân nặng trung bình\u001b[39;00m\n\u001b[1;32m----> 2\u001b[0m avg_height \u001b[38;5;241m=\u001b[39m np\u001b[38;5;241m.\u001b[39mmean(\u001b[43mnp_baseball\u001b[49m\u001b[43m[\u001b[49m\u001b[43m:\u001b[49m\u001b[43m,\u001b[49m\u001b[43m \u001b[49m\u001b[38;5;241;43m0\u001b[39;49m\u001b[43m]\u001b[49m)  \u001b[38;5;66;03m# Cột 1 là chiều cao\u001b[39;00m\n\u001b[0;32m      3\u001b[0m avg_weight \u001b[38;5;241m=\u001b[39m np\u001b[38;5;241m.\u001b[39mmean(np_baseball[:, \u001b[38;5;241m1\u001b[39m])  \u001b[38;5;66;03m# Cột 2 là cân nặng\u001b[39;00m\n\u001b[0;32m      4\u001b[0m \u001b[38;5;28mprint\u001b[39m(\u001b[38;5;124m\"\u001b[39m\u001b[38;5;124mChiều cao trung bình:\u001b[39m\u001b[38;5;124m\"\u001b[39m, avg_height)\n",
      "\u001b[1;31mIndexError\u001b[0m: too many indices for array: array is 1-dimensional, but 2 were indexed"
     ]
    }
   ],
   "source": [
    "# Câu 5: Tính chiều cao trung bình và cân nặng trung bình\n",
    "avg_height = np.mean(np_baseball[:, 0])  # Cột 1 là chiều cao\n",
    "avg_weight = np.mean(np_baseball[:, 1])  # Cột 2 là cân nặng\n",
    "print(\"Chiều cao trung bình:\", avg_height)\n",
    "print(\"Cân nặng trung bình:\", avg_weight)"
   ]
  },
  {
   "cell_type": "code",
   "execution_count": 9,
   "metadata": {},
   "outputs": [
    {
     "ename": "IndexError",
     "evalue": "too many indices for array: array is 1-dimensional, but 2 were indexed",
     "output_type": "error",
     "traceback": [
      "\u001b[1;31m---------------------------------------------------------------------------\u001b[0m",
      "\u001b[1;31mIndexError\u001b[0m                                Traceback (most recent call last)",
      "Cell \u001b[1;32mIn[9], line 2\u001b[0m\n\u001b[0;32m      1\u001b[0m \u001b[38;5;66;03m# Câu 6: Nhận xét về mối tương quan giữa chiều cao và cân nặng\u001b[39;00m\n\u001b[1;32m----> 2\u001b[0m correlation \u001b[38;5;241m=\u001b[39m np\u001b[38;5;241m.\u001b[39mcorrcoef(\u001b[43mnp_baseball\u001b[49m\u001b[43m[\u001b[49m\u001b[43m:\u001b[49m\u001b[43m,\u001b[49m\u001b[43m \u001b[49m\u001b[38;5;241;43m0\u001b[39;49m\u001b[43m]\u001b[49m, np_baseball[:, \u001b[38;5;241m1\u001b[39m])[\u001b[38;5;241m0\u001b[39m, \u001b[38;5;241m1\u001b[39m]\n\u001b[0;32m      3\u001b[0m \u001b[38;5;28;01mif\u001b[39;00m correlation \u001b[38;5;241m>\u001b[39m \u001b[38;5;241m0\u001b[39m:\n\u001b[0;32m      4\u001b[0m     correlation_type \u001b[38;5;241m=\u001b[39m \u001b[38;5;124m\"\u001b[39m\u001b[38;5;124mtương quan thuận\u001b[39m\u001b[38;5;124m\"\u001b[39m\n",
      "\u001b[1;31mIndexError\u001b[0m: too many indices for array: array is 1-dimensional, but 2 were indexed"
     ]
    }
   ],
   "source": [
    "# Câu 6: Nhận xét về mối tương quan giữa chiều cao và cân nặng\n",
    "correlation = np.corrcoef(np_baseball[:, 0], np_baseball[:, 1])[0, 1]\n",
    "if correlation > 0:\n",
    "    correlation_type = \"tương quan thuận\"\n",
    "elif correlation < 0:\n",
    "    correlation_type = \"tương quan nghịch\"\n",
    "else:\n",
    "    correlation_type = \"không có tương quan\"\n",
    "\n",
    "print(\"Mối tương quan giữa chiều cao và cân nặng:\", correlation_type)"
   ]
  }
 ],
 "metadata": {
  "kernelspec": {
   "display_name": "Python 3",
   "language": "python",
   "name": "python3"
  },
  "language_info": {
   "codemirror_mode": {
    "name": "ipython",
    "version": 3
   },
   "file_extension": ".py",
   "mimetype": "text/x-python",
   "name": "python",
   "nbconvert_exporter": "python",
   "pygments_lexer": "ipython3",
   "version": "3.11.9"
  }
 },
 "nbformat": 4,
 "nbformat_minor": 2
}
